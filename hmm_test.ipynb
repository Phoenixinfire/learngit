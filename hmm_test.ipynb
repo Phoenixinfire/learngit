{
 "cells": [
  {
   "cell_type": "markdown",
   "metadata": {},
   "source": [
    "# https://www.ricequant.com/community/topic/788/"
   ]
  },
  {
   "cell_type": "code",
   "execution_count": 2,
   "metadata": {
    "collapsed": true
   },
   "outputs": [],
   "source": [
    "from hmmlearn.hmm import GaussianHMM\n",
    "import numpy as np\n",
    "from matplotlib import cm, pyplot as plt\n",
    "import matplotlib.dates as dates\n",
    "import pandas as pd\n",
    "import datetime"
   ]
  },
  {
   "cell_type": "code",
   "execution_count": 16,
   "metadata": {
    "collapsed": false
   },
   "outputs": [
    {
     "data": {
      "text/html": [
       "<div>\n",
       "<table border=\"1\" class=\"dataframe\">\n",
       "  <thead>\n",
       "    <tr style=\"text-align: right;\">\n",
       "      <th></th>\n",
       "      <th>日期</th>\n",
       "      <th>股票代码</th>\n",
       "      <th>名称</th>\n",
       "      <th>收盘价</th>\n",
       "      <th>最高价</th>\n",
       "      <th>最低价</th>\n",
       "      <th>开盘价</th>\n",
       "      <th>前收盘</th>\n",
       "      <th>涨跌额</th>\n",
       "      <th>涨跌幅</th>\n",
       "      <th>成交量</th>\n",
       "      <th>成交金额</th>\n",
       "    </tr>\n",
       "  </thead>\n",
       "  <tbody>\n",
       "    <tr>\n",
       "      <th>0</th>\n",
       "      <td>2017/12/6</td>\n",
       "      <td>'399300</td>\n",
       "      <td>沪深300</td>\n",
       "      <td>4015.8211</td>\n",
       "      <td>4031.7533</td>\n",
       "      <td>3964.8087</td>\n",
       "      <td>4027.1231</td>\n",
       "      <td>4040.1704</td>\n",
       "      <td>-24.3493</td>\n",
       "      <td>-0.6027</td>\n",
       "      <td>10928620500</td>\n",
       "      <td>1.440000e+11</td>\n",
       "    </tr>\n",
       "    <tr>\n",
       "      <th>1</th>\n",
       "      <td>2017/12/5</td>\n",
       "      <td>'399300</td>\n",
       "      <td>沪深300</td>\n",
       "      <td>4040.1704</td>\n",
       "      <td>4045.9331</td>\n",
       "      <td>4006.5432</td>\n",
       "      <td>4007.9361</td>\n",
       "      <td>4018.8571</td>\n",
       "      <td>21.3133</td>\n",
       "      <td>0.5303</td>\n",
       "      <td>15408707600</td>\n",
       "      <td>1.960000e+11</td>\n",
       "    </tr>\n",
       "    <tr>\n",
       "      <th>2</th>\n",
       "      <td>2017/12/4</td>\n",
       "      <td>'399300</td>\n",
       "      <td>沪深300</td>\n",
       "      <td>4018.8571</td>\n",
       "      <td>4032.9859</td>\n",
       "      <td>3982.3182</td>\n",
       "      <td>3989.0466</td>\n",
       "      <td>3998.1365</td>\n",
       "      <td>20.7206</td>\n",
       "      <td>0.5183</td>\n",
       "      <td>10264721900</td>\n",
       "      <td>1.380000e+11</td>\n",
       "    </tr>\n",
       "    <tr>\n",
       "      <th>3</th>\n",
       "      <td>2017/12/1</td>\n",
       "      <td>'399300</td>\n",
       "      <td>沪深300</td>\n",
       "      <td>3998.1365</td>\n",
       "      <td>4027.1064</td>\n",
       "      <td>3984.3776</td>\n",
       "      <td>4003.5604</td>\n",
       "      <td>4006.0993</td>\n",
       "      <td>-7.9628</td>\n",
       "      <td>-0.1988</td>\n",
       "      <td>9738691300</td>\n",
       "      <td>1.360000e+11</td>\n",
       "    </tr>\n",
       "    <tr>\n",
       "      <th>4</th>\n",
       "      <td>2017/11/30</td>\n",
       "      <td>'399300</td>\n",
       "      <td>沪深300</td>\n",
       "      <td>4006.0993</td>\n",
       "      <td>4052.7970</td>\n",
       "      <td>3988.0018</td>\n",
       "      <td>4034.0091</td>\n",
       "      <td>4053.7529</td>\n",
       "      <td>-47.6536</td>\n",
       "      <td>-1.1755</td>\n",
       "      <td>10798334500</td>\n",
       "      <td>1.460000e+11</td>\n",
       "    </tr>\n",
       "  </tbody>\n",
       "</table>\n",
       "</div>"
      ],
      "text/plain": [
       "           日期     股票代码     名称        收盘价        最高价        最低价        开盘价  \\\n",
       "0   2017/12/6  '399300  沪深300  4015.8211  4031.7533  3964.8087  4027.1231   \n",
       "1   2017/12/5  '399300  沪深300  4040.1704  4045.9331  4006.5432  4007.9361   \n",
       "2   2017/12/4  '399300  沪深300  4018.8571  4032.9859  3982.3182  3989.0466   \n",
       "3   2017/12/1  '399300  沪深300  3998.1365  4027.1064  3984.3776  4003.5604   \n",
       "4  2017/11/30  '399300  沪深300  4006.0993  4052.7970  3988.0018  4034.0091   \n",
       "\n",
       "         前收盘       涨跌额      涨跌幅          成交量          成交金额  \n",
       "0  4040.1704  -24.3493  -0.6027  10928620500  1.440000e+11  \n",
       "1  4018.8571   21.3133   0.5303  15408707600  1.960000e+11  \n",
       "2  3998.1365   20.7206   0.5183  10264721900  1.380000e+11  \n",
       "3  4006.0993   -7.9628  -0.1988   9738691300  1.360000e+11  \n",
       "4  4053.7529  -47.6536  -1.1755  10798334500  1.460000e+11  "
      ]
     },
     "execution_count": 16,
     "metadata": {},
     "output_type": "execute_result"
    }
   ],
   "source": [
    "begin_date=\"2016-01-01\"\n",
    "end_date=\"2017-12-01\"\n",
    "column_map={u\"日期\":\"date\",u\"股票代码\":\"s\"}\n",
    "df=pd.read_csv(\"./shanghai300_utf8.csv\",encoding=\"utf-8\")"
   ]
  },
  {
   "cell_type": "code",
   "execution_count": null,
   "metadata": {
    "collapsed": true
   },
   "outputs": [],
   "source": []
  }
 ],
 "metadata": {
  "anaconda-cloud": {},
  "kernelspec": {
   "display_name": "Python [conda root]",
   "language": "python",
   "name": "conda-root-py"
  },
  "language_info": {
   "codemirror_mode": {
    "name": "ipython",
    "version": 2
   },
   "file_extension": ".py",
   "mimetype": "text/x-python",
   "name": "python",
   "nbconvert_exporter": "python",
   "pygments_lexer": "ipython2",
   "version": "2.7.13"
  }
 },
 "nbformat": 4,
 "nbformat_minor": 2
}
